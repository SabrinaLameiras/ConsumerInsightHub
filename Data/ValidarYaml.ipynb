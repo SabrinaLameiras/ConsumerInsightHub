{
 "cells": [
  {
   "cell_type": "markdown",
   "id": "1707cd91-b331-4aee-a92b-4da54633dd52",
   "metadata": {},
   "source": [
    "# Método para arquivos simples"
   ]
  },
  {
   "cell_type": "code",
   "execution_count": 16,
   "id": "83944e6e-3948-4597-896a-10d641339408",
   "metadata": {},
   "outputs": [
    {
     "name": "stdout",
     "output_type": "stream",
     "text": [
      "Requirement already satisfied: PyYAML in c:\\users\\sabri\\.conda\\envs\\llm_project\\lib\\site-packages (6.0.1)\n"
     ]
    }
   ],
   "source": [
    "!pip install PyYAML\n",
    "\n",
    "import json\n",
    "import yaml"
   ]
  },
  {
   "cell_type": "code",
   "execution_count": 27,
   "id": "34aceac3-147a-46c0-962b-79d070bfce7d",
   "metadata": {},
   "outputs": [
    {
     "name": "stdout",
     "output_type": "stream",
     "text": [
      "{'code_customer_id': 20987, 'code_order_id': 267, 'date_create': '2022-03-05 21:43:04', 'date_update': '2023-03-13 11:22:39', 'items': [{'base_price': 49.99, 'item_id': 1290, 'product_id': 1093, 'qty_canceled': 0, 'qty_invoiced': 1, 'qty_ordered': 1}, {'base_price': 39.99, 'item_id': 1291, 'product_id': 1092, 'qty_canceled': 0, 'qty_invoiced': 1, 'qty_ordered': 1}], 'region_delivery': 'RS', 'status': 'PostCancelled', 'val_ordered': 89.98, 'val_paid': 97.36}\n",
      "{\n",
      "    \"orders\": [\n",
      "        {\n",
      "            \"code_customer_id\": 20987,\n",
      "            \"code_order_id\": 267,\n"
     ]
    }
   ],
   "source": [
    "# Carregando os dados do arquivo YAML\n",
    "with open('base_order_CASE.yml', 'r') as file:  \n",
    "    orders_data = yaml.safe_load(file)\n",
    "\n",
    "# Acessando o primeiro registro de pedido\n",
    "first_order = orders_data['orders'][0]\n",
    "print(first_order)\n",
    "\n",
    "# Convertendo os dados para uma string JSON (para ser usada na visualização parcial)\n",
    "json_data = json.dumps(orders_data, ensure_ascii=False, indent=4)\n",
    "\n",
    "# Salvando a string JSON em um arquivo\n",
    "with open('orders_data.json', 'w', encoding='utf-8') as json_file:\n",
    "    json_file.write(json_data)\n",
    "\n",
    "# Mostrando os primeiros 100 caracteres dos dados convertidos para verificar a conversão\n",
    "print(json_data[:100])\n"
   ]
  },
  {
   "cell_type": "markdown",
   "id": "8c6ff337-8849-4f44-b094-4874958083e0",
   "metadata": {},
   "source": [
    "# Particionamento\n",
    "### No Caso de **Big Data** optaria pelo método abaixo"
   ]
  },
  {
   "cell_type": "code",
   "execution_count": 1,
   "id": "c96041d1-fca4-4ee2-8995-f7a4cdbc79d0",
   "metadata": {},
   "outputs": [],
   "source": [
    "import json\n",
    "import yaml\n",
    "\n",
    "def dividir_e_converter_para_json(orders_data, numero_de_pedidos_por_arquivo):\n",
    "    for i in range(0, len(orders_data['orders']), numero_de_pedidos_por_arquivo):\n",
    "        # Dividindo os pedidos em partes menores\n",
    "        parte = orders_data['orders'][i:i + numero_de_pedidos_por_arquivo]\n",
    "        \n",
    "        # Convertendo a parte menor para JSON\n",
    "        parte_json = json.dumps(parte, indent=4)\n",
    "        \n",
    "        # Salvando a parte menor em um arquivo JSON\n",
    "        with open(f'parte_{i // numero_de_pedidos_por_arquivo}.json', 'w') as json_file:\n",
    "            json_file.write(parte_json)\n",
    "\n",
    "# Abrindo e lendo o arquivo YAML\n",
    "with open('dbase_order_CASE.yml', 'r') as file:\n",
    "    orders_data = yaml.safe_load(file)\n",
    "\n",
    "# Dividir o arquivo em partes menores e converter para JSON\n",
    "dividir_e_converter_para_json(orders_data, numero_de_pedidos_por_arquivo=2000)\n"
   ]
  },
  {
   "cell_type": "code",
   "execution_count": null,
   "id": "b15a72ae-57b8-4003-9b92-5fc45c81c179",
   "metadata": {},
   "outputs": [],
   "source": []
  }
 ],
 "metadata": {
  "kernelspec": {
   "display_name": "Python 3 (ipykernel)",
   "language": "python",
   "name": "python3"
  },
  "language_info": {
   "codemirror_mode": {
    "name": "ipython",
    "version": 3
   },
   "file_extension": ".py",
   "mimetype": "text/x-python",
   "name": "python",
   "nbconvert_exporter": "python",
   "pygments_lexer": "ipython3",
   "version": "3.10.13"
  }
 },
 "nbformat": 4,
 "nbformat_minor": 5
}
